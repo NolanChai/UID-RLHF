{
 "cells": [
  {
   "cell_type": "code",
   "execution_count": 1,
   "id": "1e8109dc-e195-47fb-9f23-a6cfa66ce2bc",
   "metadata": {},
   "outputs": [],
   "source": [
    "from uid.metrics import Tokenizer"
   ]
  },
  {
   "cell_type": "code",
   "execution_count": 2,
   "id": "66ea44bc-c52e-40db-8029-c9c1fd9b6819",
   "metadata": {},
   "outputs": [
    {
     "data": {
      "application/vnd.jupyter.widget-view+json": {
       "model_id": "f4bfa64b2473467fac3e7b93bef746ab",
       "version_major": 2,
       "version_minor": 0
      },
      "text/plain": [
       "Fetching 24 files:   0%|          | 0/24 [00:00<?, ?it/s]"
      ]
     },
     "metadata": {},
     "output_type": "display_data"
    }
   ],
   "source": [
    "gpt2 = Tokenizer(model_name=\"gpt2-medium\")"
   ]
  },
  {
   "cell_type": "code",
   "execution_count": 3,
   "id": "9378b58f-2d1e-4af0-b3b6-24e239e24ec8",
   "metadata": {},
   "outputs": [
    {
     "data": {
      "application/vnd.jupyter.widget-view+json": {
       "model_id": "09579b71e579443da8c2ca35b8c3750e",
       "version_major": 2,
       "version_minor": 0
      },
      "text/plain": [
       "Fetching 19 files:   0%|          | 0/19 [00:00<?, ?it/s]"
      ]
     },
     "metadata": {},
     "output_type": "display_data"
    }
   ],
   "source": [
    "distilgpt2 = Tokenizer(model_name=\"distilgpt2\")"
   ]
  },
  {
   "cell_type": "code",
   "execution_count": 4,
   "id": "bf0b6500-51a1-43e7-81af-21ec6ff08fda",
   "metadata": {},
   "outputs": [],
   "source": [
    "message = \"Hello World!\""
   ]
  },
  {
   "cell_type": "code",
   "execution_count": 5,
   "id": "7be10c83-c6a0-43a1-80e8-91d610200b6d",
   "metadata": {},
   "outputs": [
    {
     "data": {
      "text/plain": [
       "[None, 12.803544044494629, 3.406038284301758]"
      ]
     },
     "execution_count": 5,
     "metadata": {},
     "output_type": "execute_result"
    }
   ],
   "source": [
    "gpt2.surprisal(message)"
   ]
  },
  {
   "cell_type": "code",
   "execution_count": 6,
   "id": "0119b314-0b91-4efc-868f-7e95e9d20161",
   "metadata": {},
   "outputs": [
    {
     "data": {
      "text/plain": [
       "[None, 15.448210716247559, 8.370616912841797]"
      ]
     },
     "execution_count": 6,
     "metadata": {},
     "output_type": "execute_result"
    }
   ],
   "source": [
    "distilgpt2.surprisal(message)"
   ]
  },
  {
   "cell_type": "code",
   "execution_count": null,
   "id": "b46a27c2-7872-4004-90f8-710d7809c0d1",
   "metadata": {},
   "outputs": [],
   "source": []
  }
 ],
 "metadata": {
  "kernelspec": {
   "display_name": "Python 3 (ipykernel)",
   "language": "python",
   "name": "python3"
  },
  "language_info": {
   "codemirror_mode": {
    "name": "ipython",
    "version": 3
   },
   "file_extension": ".py",
   "mimetype": "text/x-python",
   "name": "python",
   "nbconvert_exporter": "python",
   "pygments_lexer": "ipython3",
   "version": "3.12.11"
  }
 },
 "nbformat": 4,
 "nbformat_minor": 5
}
