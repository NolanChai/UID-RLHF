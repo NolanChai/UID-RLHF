{
 "cells": [
  {
   "cell_type": "code",
   "execution_count": 1,
   "id": "1e8109dc-e195-47fb-9f23-a6cfa66ce2bc",
   "metadata": {},
   "outputs": [],
   "source": [
    "from uid.metrics import Tokenizer"
   ]
  },
  {
   "cell_type": "code",
   "execution_count": null,
   "id": "66ea44bc-c52e-40db-8029-c9c1fd9b6819",
   "metadata": {},
   "outputs": [
    {
     "data": {
      "application/vnd.jupyter.widget-view+json": {
       "model_id": "6d8b1cc2eea94721b45a649fa59a3fa8",
       "version_major": 2,
       "version_minor": 0
      },
      "text/plain": [
       "Output()"
      ]
     },
     "metadata": {},
     "output_type": "display_data"
    },
    {
     "name": "stderr",
     "output_type": "stream",
     "text": [
      "Xet Storage is enabled for this repo, but the 'hf_xet' package is not installed. Falling back to regular HTTP download. For better performance, install the package with: `pip install huggingface_hub[hf_xet]` or `pip install hf_xet`\n",
      "Xet Storage is enabled for this repo, but the 'hf_xet' package is not installed. Falling back to regular HTTP download. For better performance, install the package with: `pip install huggingface_hub[hf_xet]` or `pip install hf_xet`\n"
     ]
    },
    {
     "data": {
      "text/html": [
       "<pre style=\"white-space:pre;overflow-x:auto;line-height:normal;font-family:Menlo,'DejaVu Sans Mono',consolas,'Courier New',monospace\">C:\\Users\\nchai\\Documents\\GitHub\\UID-RLHF\\.venv\\Lib\\site-packages\\huggingface_hub\\file_download.py:143: UserWarning:\n",
       "`huggingface_hub` cache-system uses symlinks by default to efficiently store duplicated files but your machine does\n",
       "not support them in C:\\Users\\nchai\\.cache\\huggingface\\hub\\models--gpt2-medium. Caching files will still work but in\n",
       "a degraded version that might require more space on your disk. This warning can be disabled by setting the \n",
       "`HF_HUB_DISABLE_SYMLINKS_WARNING` environment variable. For more details, see \n",
       "https://huggingface.co/docs/huggingface_hub/how-to-cache#limitations.\n",
       "To support symlinks on Windows, you either need to activate Developer Mode or to run Python as an administrator. In\n",
       "order to activate developer mode, see this article: \n",
       "https://docs.microsoft.com/en-us/windows/apps/get-started/enable-your-device-for-development\n",
       "  warnings.warn(message)\n",
       "</pre>\n"
      ],
      "text/plain": [
       "C:\\Users\\nchai\\Documents\\GitHub\\UID-RLHF\\.venv\\Lib\\site-packages\\huggingface_hub\\file_download.py:143: UserWarning:\n",
       "`huggingface_hub` cache-system uses symlinks by default to efficiently store duplicated files but your machine does\n",
       "not support them in C:\\Users\\nchai\\.cache\\huggingface\\hub\\models--gpt2-medium. Caching files will still work but in\n",
       "a degraded version that might require more space on your disk. This warning can be disabled by setting the \n",
       "`HF_HUB_DISABLE_SYMLINKS_WARNING` environment variable. For more details, see \n",
       "https://huggingface.co/docs/huggingface_hub/how-to-cache#limitations.\n",
       "To support symlinks on Windows, you either need to activate Developer Mode or to run Python as an administrator. In\n",
       "order to activate developer mode, see this article: \n",
       "https://docs.microsoft.com/en-us/windows/apps/get-started/enable-your-device-for-development\n",
       "  warnings.warn(message)\n"
      ]
     },
     "metadata": {},
     "output_type": "display_data"
    },
    {
     "name": "stderr",
     "output_type": "stream",
     "text": [
      "Xet Storage is enabled for this repo, but the 'hf_xet' package is not installed. Falling back to regular HTTP download. For better performance, install the package with: `pip install huggingface_hub[hf_xet]` or `pip install hf_xet`\n",
      "Xet Storage is enabled for this repo, but the 'hf_xet' package is not installed. Falling back to regular HTTP download. For better performance, install the package with: `pip install huggingface_hub[hf_xet]` or `pip install hf_xet`\n",
      "Xet Storage is enabled for this repo, but the 'hf_xet' package is not installed. Falling back to regular HTTP download. For better performance, install the package with: `pip install huggingface_hub[hf_xet]` or `pip install hf_xet`\n"
     ]
    },
    {
     "data": {
      "text/html": [
       "<pre style=\"white-space:pre;overflow-x:auto;line-height:normal;font-family:Menlo,'DejaVu Sans Mono',consolas,'Courier New',monospace\"></pre>\n"
      ],
      "text/plain": []
     },
     "metadata": {},
     "output_type": "display_data"
    }
   ],
   "source": [
    "gpt2 = Tokenizer(model_name=\"gpt2-medium\")"
   ]
  },
  {
   "cell_type": "code",
   "execution_count": null,
   "id": "9378b58f-2d1e-4af0-b3b6-24e239e24ec8",
   "metadata": {},
   "outputs": [],
   "source": []
  }
 ],
 "metadata": {
  "kernelspec": {
   "display_name": "Python 3 (ipykernel)",
   "language": "python",
   "name": "python3"
  },
  "language_info": {
   "codemirror_mode": {
    "name": "ipython",
    "version": 3
   },
   "file_extension": ".py",
   "mimetype": "text/x-python",
   "name": "python",
   "nbconvert_exporter": "python",
   "pygments_lexer": "ipython3",
   "version": "3.12.11"
  }
 },
 "nbformat": 4,
 "nbformat_minor": 5
}
