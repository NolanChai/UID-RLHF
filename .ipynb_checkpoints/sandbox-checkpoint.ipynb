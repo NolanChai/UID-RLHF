{
 "cells": [
  {
   "cell_type": "code",
   "execution_count": 13,
   "id": "1e8109dc-e195-47fb-9f23-a6cfa66ce2bc",
   "metadata": {},
   "outputs": [],
   "source": [
    "from uid.metrics import Tokenizer\n",
    "import pandas as pd\n",
    "import torch"
   ]
  },
  {
   "cell_type": "code",
   "execution_count": 14,
   "id": "ba31000a-710b-4447-a134-35114d531a01",
   "metadata": {},
   "outputs": [
    {
     "data": {
      "text/plain": [
       "False"
      ]
     },
     "execution_count": 14,
     "metadata": {},
     "output_type": "execute_result"
    }
   ],
   "source": [
    "torch.cuda.is_available()"
   ]
  },
  {
   "cell_type": "code",
   "execution_count": 2,
   "id": "66ea44bc-c52e-40db-8029-c9c1fd9b6819",
   "metadata": {},
   "outputs": [
    {
     "data": {
      "application/vnd.jupyter.widget-view+json": {
       "model_id": "76562ecd6bfd47b2b16c9b685c0f7a7f",
       "version_major": 2,
       "version_minor": 0
      },
      "text/plain": [
       "Fetching 24 files:   0%|          | 0/24 [00:00<?, ?it/s]"
      ]
     },
     "metadata": {},
     "output_type": "display_data"
    }
   ],
   "source": [
    "gpt2 = Tokenizer(model_name=\"gpt2-medium\")"
   ]
  },
  {
   "cell_type": "code",
   "execution_count": 3,
   "id": "9378b58f-2d1e-4af0-b3b6-24e239e24ec8",
   "metadata": {},
   "outputs": [
    {
     "data": {
      "application/vnd.jupyter.widget-view+json": {
       "model_id": "0451d8112c65493ca2077e40a904e465",
       "version_major": 2,
       "version_minor": 0
      },
      "text/plain": [
       "Fetching 19 files:   0%|          | 0/19 [00:00<?, ?it/s]"
      ]
     },
     "metadata": {},
     "output_type": "display_data"
    }
   ],
   "source": [
    "distilgpt2 = Tokenizer(model_name=\"distilgpt2\")"
   ]
  },
  {
   "cell_type": "code",
   "execution_count": 4,
   "id": "bf0b6500-51a1-43e7-81af-21ec6ff08fda",
   "metadata": {},
   "outputs": [],
   "source": [
    "message = \"Hello World!\""
   ]
  },
  {
   "cell_type": "code",
   "execution_count": 5,
   "id": "7be10c83-c6a0-43a1-80e8-91d610200b6d",
   "metadata": {},
   "outputs": [
    {
     "data": {
      "text/plain": [
       "[None, 12.803544044494629, 3.406038284301758]"
      ]
     },
     "execution_count": 5,
     "metadata": {},
     "output_type": "execute_result"
    }
   ],
   "source": [
    "gpt2.surprisal(message)"
   ]
  },
  {
   "cell_type": "code",
   "execution_count": 6,
   "id": "0119b314-0b91-4efc-868f-7e95e9d20161",
   "metadata": {},
   "outputs": [
    {
     "data": {
      "text/plain": [
       "[None, 15.448210716247559, 8.370616912841797]"
      ]
     },
     "execution_count": 6,
     "metadata": {},
     "output_type": "execute_result"
    }
   ],
   "source": [
    "distilgpt2.surprisal(message)"
   ]
  },
  {
   "cell_type": "code",
   "execution_count": 7,
   "id": "b46a27c2-7872-4004-90f8-710d7809c0d1",
   "metadata": {},
   "outputs": [],
   "source": [
    "df = pd.DataFrame({\n",
    "    \"utterance\": [\"Hello world!\", \"How are you doing today?\"]\n",
    "})"
   ]
  },
  {
   "cell_type": "code",
   "execution_count": 8,
   "id": "8f4657dd-1c04-43d2-8cd6-8f3106515be2",
   "metadata": {},
   "outputs": [
    {
     "data": {
      "text/html": [
       "<div>\n",
       "<style scoped>\n",
       "    .dataframe tbody tr th:only-of-type {\n",
       "        vertical-align: middle;\n",
       "    }\n",
       "\n",
       "    .dataframe tbody tr th {\n",
       "        vertical-align: top;\n",
       "    }\n",
       "\n",
       "    .dataframe thead th {\n",
       "        text-align: right;\n",
       "    }\n",
       "</style>\n",
       "<table border=\"1\" class=\"dataframe\">\n",
       "  <thead>\n",
       "    <tr style=\"text-align: right;\">\n",
       "      <th></th>\n",
       "      <th>utterance</th>\n",
       "    </tr>\n",
       "  </thead>\n",
       "  <tbody>\n",
       "    <tr>\n",
       "      <th>0</th>\n",
       "      <td>Hello world!</td>\n",
       "    </tr>\n",
       "    <tr>\n",
       "      <th>1</th>\n",
       "      <td>How are you doing today?</td>\n",
       "    </tr>\n",
       "  </tbody>\n",
       "</table>\n",
       "</div>"
      ],
      "text/plain": [
       "                  utterance\n",
       "0              Hello world!\n",
       "1  How are you doing today?"
      ]
     },
     "execution_count": 8,
     "metadata": {},
     "output_type": "execute_result"
    }
   ],
   "source": [
    "df.head()"
   ]
  },
  {
   "cell_type": "code",
   "execution_count": 12,
   "id": "8cf6f330-50e0-4a31-a740-0ecf8f144993",
   "metadata": {},
   "outputs": [
    {
     "data": {
      "application/vnd.jupyter.widget-view+json": {
       "model_id": "d92359189826438d92c81671e50534be",
       "version_major": 2,
       "version_minor": 0
      },
      "text/plain": [
       "Calculating surprisal:   0%|          | 0/2 [00:00<?, ?it/s]"
      ]
     },
     "metadata": {},
     "output_type": "display_data"
    },
    {
     "data": {
      "text/html": [
       "<div>\n",
       "<style scoped>\n",
       "    .dataframe tbody tr th:only-of-type {\n",
       "        vertical-align: middle;\n",
       "    }\n",
       "\n",
       "    .dataframe tbody tr th {\n",
       "        vertical-align: top;\n",
       "    }\n",
       "\n",
       "    .dataframe thead th {\n",
       "        text-align: right;\n",
       "    }\n",
       "</style>\n",
       "<table border=\"1\" class=\"dataframe\">\n",
       "  <thead>\n",
       "    <tr style=\"text-align: right;\">\n",
       "      <th></th>\n",
       "      <th>utterance</th>\n",
       "      <th>surprisal</th>\n",
       "    </tr>\n",
       "  </thead>\n",
       "  <tbody>\n",
       "    <tr>\n",
       "      <th>0</th>\n",
       "      <td>Hello world!</td>\n",
       "      <td>[None, 16.544466018676758, 3.16974139213562]</td>\n",
       "    </tr>\n",
       "    <tr>\n",
       "      <th>1</th>\n",
       "      <td>How are you doing today?</td>\n",
       "      <td>[None, 4.922397136688232, 1.5215210914611816, ...</td>\n",
       "    </tr>\n",
       "  </tbody>\n",
       "</table>\n",
       "</div>"
      ],
      "text/plain": [
       "                  utterance                                          surprisal\n",
       "0              Hello world!       [None, 16.544466018676758, 3.16974139213562]\n",
       "1  How are you doing today?  [None, 4.922397136688232, 1.5215210914611816, ..."
      ]
     },
     "execution_count": 12,
     "metadata": {},
     "output_type": "execute_result"
    }
   ],
   "source": [
    "gpt2.surprisal_dataframe(df, \"utterance\")"
   ]
  },
  {
   "cell_type": "code",
   "execution_count": 17,
   "id": "df318061-cb2b-4a6d-be41-fb8fb8d078d1",
   "metadata": {},
   "outputs": [
    {
     "name": "stdout",
     "output_type": "stream",
     "text": [
      "[[None, 16.544466018676758, 3.16974139213562], [None, 4.922397136688232, 1.5215210914611816, 2.2151429653167725, 4.105249404907227, 2.016903877258301]]\n"
     ]
    }
   ],
   "source": [
    "print(df[\"surprisal\"].tolist())"
   ]
  },
  {
   "cell_type": "code",
   "execution_count": null,
   "id": "1971a6ab-aa59-4277-a5a2-89167c418ac3",
   "metadata": {},
   "outputs": [],
   "source": []
  }
 ],
 "metadata": {
  "kernelspec": {
   "display_name": "Python 3 (ipykernel)",
   "language": "python",
   "name": "python3"
  },
  "language_info": {
   "codemirror_mode": {
    "name": "ipython",
    "version": 3
   },
   "file_extension": ".py",
   "mimetype": "text/x-python",
   "name": "python",
   "nbconvert_exporter": "python",
   "pygments_lexer": "ipython3",
   "version": "3.12.11"
  }
 },
 "nbformat": 4,
 "nbformat_minor": 5
}
